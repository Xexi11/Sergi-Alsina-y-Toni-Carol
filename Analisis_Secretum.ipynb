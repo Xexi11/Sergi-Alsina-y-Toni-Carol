{
 "cells": [
  {
   "cell_type": "markdown",
   "metadata": {},
   "source": [
    "###### Toni Carol Mateo   \n",
    "###### Sergi Alsina Caldera  \n"
   ]
  },
  {
   "cell_type": "markdown",
   "metadata": {},
   "source": [
    "### Analísis de la Complexitat --- Sectretum"
   ]
  },
  {
   "cell_type": "code",
   "execution_count": 2,
   "metadata": {},
   "outputs": [],
   "source": [
    "#Versió Iterativa\n",
    "def decrypt(value):\n",
    "    compt = 0;\n",
    "    value = str(value)\n",
    "    suma = 0\n",
    "    for i in range(len(value)):\n",
    "        compt = compt + 1\n",
    "        suma = suma + int(value[i])\n",
    "        \n",
    "    final = suma\n",
    "    while final > 10:\n",
    "        compt = compt + 1\n",
    "        suma = suma + int(i)\n",
    "        final = suma\n",
    "        \n",
    "    return [final,compt]\n",
    "    "
   ]
  },
  {
   "cell_type": "code",
   "execution_count": 3,
   "metadata": {},
   "outputs": [],
   "source": [
    "#Versió Recursiva\n",
    "def decrypt_recu(value,final,i,compt=0):\n",
    "    value = str(value)\n",
    "    value_int = int(value)\n",
    "    if(value_int < 10):\n",
    "        compt = compt +1\n",
    "        return [int(value), compt]\n",
    "    else:\n",
    "        compt = compt + 1\n",
    "        if i == len(str(value)):\n",
    "            i = 0\n",
    "            value = str(final)\n",
    "            final = 0\n",
    "        final += int(value[i])\n",
    "        i = i + 1\n",
    "        \n",
    "    return decrypt_recu(value,final,i,compt)"
   ]
  },
  {
   "cell_type": "markdown",
   "metadata": {},
   "source": [
    "### Calculem el cost i la complexitat:\n",
    "\n",
    "\n",
    "\n",
    "$$\\mathcal{O}(log_{n}(10))$$\n"
   ]
  },
  {
   "cell_type": "markdown",
   "metadata": {},
   "source": [
    "#### Assegurar que la funció de cost trobada és correcte"
   ]
  },
  {
   "cell_type": "markdown",
   "metadata": {},
   "source": [
    "## GRAFICA"
   ]
  },
  {
   "cell_type": "code",
   "execution_count": 4,
   "metadata": {
    "scrolled": true
   },
   "outputs": [
    {
     "name": "stdout",
     "output_type": "stream",
     "text": [
      "[2, 3, 4, 5, 8, 14]\n",
      "[4, 5, 6, 7, 10, 16]\n"
     ]
    }
   ],
   "source": [
    "import random\n",
    "import math\n",
    "n = [10,100,1000,10000,10000000,10000000000000]\n",
    "s_ite=[]\n",
    "s_recu=[]\n",
    "steps_loglog=[0,0,0,0,0,0]\n",
    "steps_logn=[0,0,0,0,0,0]\n",
    "steps_log=[0,0,0,0,0,0]\n",
    "for i in range(len(n)):\n",
    "    s_ite.append(decrypt(n[i])[1])\n",
    "    s_recu.append(decrypt_recu(n[i],0,0,0)[1])\n",
    "    \n",
    "    for j in range(math.ceil(math.log(n[i]))):\n",
    "             steps_log[i] = steps_log[i] +1\n",
    "    \n",
    "    for j in range(math.ceil(math.log(math.log(n[i],2),2))+1):\n",
    "             steps_loglog[i] = steps_loglog[i] +1 \n",
    "     \n",
    "print(s_ite)\n",
    "print(s_recu)"
   ]
  },
  {
   "cell_type": "code",
   "execution_count": 6,
   "metadata": {},
   "outputs": [
    {
     "data": {
      "image/png": "[encoded data removed]",
      "text/plain": [
       "<Figure size 432x288 with 1 Axes>"
      ]
     },
     "metadata": {
      "needs_background": "light"
     },
     "output_type": "display_data"
    }
   ],
   "source": [
    "import matplotlib.pyplot as plt\n",
    "import numpy as np\n",
    "\n",
    "plt.plot(n,s_ite, 'g', label='Iteratiu')\n",
    "plt.plot(n,s_recu, 'b', label='recursiu')\n",
    "plt.plot(n,steps_loglog, 'y', label='loglog((x)')\n",
    "plt.plot(n,steps_log, 'r', label = 'log(x)')\n",
    "plt.xscale('log')\n",
    "plt.xlabel('Mida entrada (n)')\n",
    "plt.ylabel('Operacions')\n",
    "plt.title('Analisis de la complexitat')\n",
    "plt.legend()\n",
    "plt.show()"
   ]
  },
  {
   "cell_type": "markdown",
   "metadata": {},
   "source": [
    "Amb aquest gráfic comprobem la complexitat obtinguda anteriorment, al veure que els dos algoritmes tendeixen a la funció:\n",
    "T(n) = log<sub>n</sub>(10)"
   ]
  },
  {
   "cell_type": "markdown",
   "metadata": {},
   "source": [
    "###### COMPARACIÓ TEMPS COST ITERATIU I RECURSIU\n",
    "\n"
   ]
  },
  {
   "cell_type": "code",
   "execution_count": 21,
   "metadata": {
    "scrolled": true
   },
   "outputs": [
    {
     "name": "stdout",
     "output_type": "stream",
     "text": [
      "1.13 µs ± 52.9 ns per loop (mean ± std. dev. of 7 runs, 1000000 loops each)\n",
      "3.52 µs ± 445 ns per loop (mean ± std. dev. of 7 runs, 100000 loops each)\n",
      "1.4 µs ± 74.7 ns per loop (mean ± std. dev. of 7 runs, 1000000 loops each)\n",
      "4.25 µs ± 81.4 ns per loop (mean ± std. dev. of 7 runs, 100000 loops each)\n",
      "1.52 µs ± 18.4 ns per loop (mean ± std. dev. of 7 runs, 1000000 loops each)\n",
      "4.84 µs ± 76.7 ns per loop (mean ± std. dev. of 7 runs, 100000 loops each)\n",
      "2.2 µs ± 72.4 ns per loop (mean ± std. dev. of 7 runs, 100000 loops each)\n",
      "7.29 µs ± 98.2 ns per loop (mean ± std. dev. of 7 runs, 100000 loops each)\n",
      "3.7 µs ± 94.7 ns per loop (mean ± std. dev. of 7 runs, 100000 loops each)\n",
      "13.3 µs ± 363 ns per loop (mean ± std. dev. of 7 runs, 100000 loops each)\n",
      "6.4 µs ± 439 ns per loop (mean ± std. dev. of 7 runs, 100000 loops each)\n",
      "23.8 µs ± 427 ns per loop (mean ± std. dev. of 7 runs, 10000 loops each)\n",
      "9.92 µs ± 327 ns per loop (mean ± std. dev. of 7 runs, 100000 loops each)\n",
      "40.3 µs ± 467 ns per loop (mean ± std. dev. of 7 runs, 10000 loops each)\n"
     ]
    }
   ],
   "source": [
    "import random\n",
    "import math\n",
    "import time\n",
    "\n",
    "n = [10,100,1000,1000000,10000000000000,10000000000000000000000000,1000000000000000000000000000000000000000000]\n",
    "for i in range(len(n)):\n",
    "    %timeit decrypt(n[i])\n",
    "    %timeit decrypt_recu(n[i],0,0,0)\n",
    "   "
   ]
  },
  {
   "cell_type": "code",
   "execution_count": 20,
   "metadata": {},
   "outputs": [
    {
     "data": {
      "image/png": "[encoded data removed]",
      "text/plain": [
       "<Figure size 432x288 with 1 Axes>"
      ]
     },
     "metadata": {
      "needs_background": "light"
     },
     "output_type": "display_data"
    }
   ],
   "source": [
    "n_t= [10,100,1000,1000000,10000000000000,10000000000000000000000000,1000000000000000000000000000000000000000000]\n",
    "t_ite  = [1.18,1.52,1.76,2.41,3.91,6.56,10.3]\n",
    "t_rec = [3.68,4.32,4.99, 7.49,13.5,23.2, 42.6]\n",
    "\n",
    "import matplotlib.pyplot as plt\n",
    "import numpy as np\n",
    "\n",
    "plt.plot(n,t_ite, 'g',label='recursiu')\n",
    "plt.plot(n,t_rec, 'b',label='iteratiu')\n",
    "plt.xscale('log')\n",
    "plt.xlabel('Mida entrada (n)')\n",
    "plt.ylabel('Temps (microsegons)')\n",
    "plt.title('Temps Iteratiu/Recursiu')\n",
    "plt.legend()\n",
    "plt.show()"
   ]
  },
  {
   "cell_type": "markdown",
   "metadata": {},
   "source": [
    "Com veiem en el gráfic, el agoritme recursiu es més eficient en quant el temps d'execució"
   ]
  },
  {
   "cell_type": "code",
   "execution_count": null,
   "metadata": {},
   "outputs": [],
   "source": []
  }
 ],
 "metadata": {
  "kernelspec": {
   "display_name": "Python 3",
   "language": "python",
   "name": "python3"
  },
  "language_info": {
   "codemirror_mode": {
    "name": "ipython",
    "version": 3
   },
   "file_extension": ".py",
   "mimetype": "text/x-python",
   "name": "python",
   "nbconvert_exporter": "python",
   "pygments_lexer": "ipython3",
   "version": "3.7.3"
  }
 },
 "nbformat": 4,
 "nbformat_minor": 4
}
